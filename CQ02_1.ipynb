{
 "cells": [
  {
   "cell_type": "code",
   "execution_count": 8,
   "metadata": {},
   "outputs": [
    {
     "data": {
      "text/plain": [
       "Text(0,0.5,'final T after 10.0 second')"
      ]
     },
     "execution_count": 8,
     "metadata": {},
     "output_type": "execute_result"
    },
    {
     "data": {
      "image/png": "[encoded data removed]",
      "text/plain": [
       "<Figure size 432x288 with 1 Axes>"
      ]
     },
     "metadata": {},
     "output_type": "display_data"
    }
   ],
   "source": [
    "%matplotlib inline\n",
    "import numpy as np\n",
    "import matplotlib.pyplot as plt\n",
    "\n",
    "T0 = 10.   # initial temperature\n",
    "Ts = 83.   # temp. of the environment\n",
    "r = 0.1    # cooling rate\n",
    "tmax = 10. # maximum time\n",
    "\n",
    "euler = lambda y, f, dx: y + f*dx\n",
    "\n",
    "dt_array = np.logspace(-4, 1, 100)\n",
    "# final_T_array = np.zeros(dt_array.shape)\n",
    "\n",
    "def final_T_of_dt(tmax, T0, Ts, r, dt):\n",
    "    nsteps = int(tmax//dt) +1  #the arrays will have different size for different time steps\n",
    "\n",
    "    T = T0\n",
    "    for i in range(nsteps):\n",
    "        T = euler(T, -r*(T-Ts), dt)\n",
    "    return T\n",
    "\n",
    "final_T_fun = np.vectorize(final_T_of_dt)\n",
    "\n",
    "final_T = final_T_fun(tmax, T0, Ts, r, dt_array)\n",
    "        \n",
    "plt.semilogx(dt_array, final_T, '.')\n",
    "plt.xlabel('d t')\n",
    "plt.ylabel('final T after ' + str(tmax) + ' second')\n",
    "\n"
   ]
  }
 ],
 "metadata": {
  "kernelspec": {
   "display_name": "Python 3",
   "language": "python",
   "name": "python3"
  },
  "language_info": {
   "codemirror_mode": {
    "name": "ipython",
    "version": 3
   },
   "file_extension": ".py",
   "mimetype": "text/x-python",
   "name": "python",
   "nbconvert_exporter": "python",
   "pygments_lexer": "ipython3",
   "version": "3.6.2"
  }
 },
 "nbformat": 4,
 "nbformat_minor": 2
}
