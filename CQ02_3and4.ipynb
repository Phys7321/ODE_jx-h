{
 "cells": [
  {
   "cell_type": "code",
   "execution_count": null,
   "metadata": {
    "collapsed": true
   },
   "outputs": [],
   "source": [
    "## Third part"
   ]
  },
  {
   "cell_type": "code",
   "execution_count": 60,
   "metadata": {},
   "outputs": [],
   "source": [
    "class particle(object):\n",
    "    g = 9.8\n",
    "    dt = 0.5           # time step\n",
    "    \n",
    "    def __init__(self, mass=1., y=0., v=0.):\n",
    "        self.mass = mass\n",
    "        self.y = y\n",
    "        self.v = v\n",
    "        \n",
    "    def euler(self, f, dt):\n",
    "        self.y = self.y + self.v*dt\n",
    "        self.v = self.v + f/self.mass*dt\n",
    "        \n",
    "    def euler_cromer(self, f, dt):\n",
    "        self.v = self.v + f/self.mass*dt\n",
    "        self.y = self.y + self.v*dt\n",
    "        \n",
    "    def get_impact_v(self, g_variable):\n",
    "\n",
    "        y = [self.y] # since we do not know the size of the arrays, we define first a python list\n",
    "        v = [self.v] # the append method is more efficient for lists than arrays\n",
    "        t = [0.]\n",
    "\n",
    "        while self.y > 0.:\n",
    "            fy = -self.mass*g / (1+(self.y/6.37e6)**2) if g_variable else -self.mass*g\n",
    "            self.euler(fy, dt)\n",
    "            y.append(self.y)\n",
    "            v.append(self.v)\n",
    "            t.append(t[-1]+dt)\n",
    "\n",
    "        t_data = np.array(t) # we convert the list into a numpy array for plotting\n",
    "        y_data = np.array(y)\n",
    "        v_data = np.array(v)\n",
    "\n",
    "        return t_data,y_data,v_data\n",
    "    \n",
    "    "
   ]
  },
  {
   "cell_type": "code",
   "execution_count": 61,
   "metadata": {},
   "outputs": [
    {
     "name": "stdout",
     "output_type": "stream",
     "text": [
      "impact velecity is -83.300000 m/s \n",
      "\n"
     ]
    },
    {
     "data": {
      "text/plain": [
       "Text(0,0.5,'velocity(m/s)')"
      ]
     },
     "execution_count": 61,
     "metadata": {},
     "output_type": "execute_result"
    },
    {
     "data": {
      "image/png": "[encoded data removed]",
      "text/plain": [
       "<Figure size 432x288 with 1 Axes>"
      ]
     },
     "metadata": {},
     "output_type": "display_data"
    }
   ],
   "source": [
    "%matplotlib inline\n",
    "import numpy as np\n",
    "from matplotlib import pyplot\n",
    "\n",
    "mass = 0.01        # mass of the particle\n",
    "y0 = 300.          # initial position\n",
    "v0 = 0.            # initial velocity\n",
    "vt = 30.           # terminal velocity\n",
    "\n",
    "p = particle(mass, y0, v0)\n",
    "\n",
    "#for i in range(0,t_data.size):\n",
    "#    print i,t_data[i], y_data[i], v_data[i]\n",
    "\n",
    "t_data,y_data,v_data = p.get_impact_v(g_variable=True)\n",
    "\n",
    "print('impact velecity is %f m/s \\n' % v_data[-1])\n",
    "pyplot.plot(t_data, v_data, color=\"#FF0000\", ls='-', lw=3)\n",
    "pyplot.xlabel('time(s)')\n",
    "pyplot.ylabel('velocity(m/s)')"
   ]
  },
  {
   "cell_type": "code",
   "execution_count": 62,
   "metadata": {},
   "outputs": [
    {
     "name": "stdout",
     "output_type": "stream",
     "text": [
      "required height to make a 0.01 difference is 735.000000 m \n",
      "\n"
     ]
    }
   ],
   "source": [
    "## find out 1% difference y0\n",
    "y0 = 500\n",
    "v0 = 0\n",
    "dv_perc = 0\n",
    "\n",
    "while dv_perc < 0.01:\n",
    "    y0 += 1\n",
    "    p = particle(mass, y0, v0)\n",
    "    _,_,v_data1 = p.get_impact_v(g_variable=True)\n",
    "    p = particle(mass, y0, v0)\n",
    "    _,_,v_data2 = p.get_impact_v(g_variable=False)\n",
    "    dv_perc = abs(v_data2[-1]/v_data1[-1] - 1)\n",
    "\n",
    "print('required height to make a 0.01 difference is %f m \\n' % y0)\n"
   ]
  },
  {
   "cell_type": "code",
   "execution_count": null,
   "metadata": {
    "collapsed": true
   },
   "outputs": [],
   "source": []
  },
  {
   "cell_type": "code",
   "execution_count": null,
   "metadata": {
    "collapsed": true
   },
   "outputs": [],
   "source": [
    "## Last part, coming soon..."
   ]
  },
  {
   "cell_type": "code",
   "execution_count": null,
   "metadata": {
    "collapsed": true
   },
   "outputs": [],
   "source": []
  },
  {
   "cell_type": "code",
   "execution_count": null,
   "metadata": {
    "collapsed": true
   },
   "outputs": [],
   "source": []
  },
  {
   "cell_type": "code",
   "execution_count": null,
   "metadata": {
    "collapsed": true
   },
   "outputs": [],
   "source": []
  },
  {
   "cell_type": "code",
   "execution_count": null,
   "metadata": {
    "collapsed": true
   },
   "outputs": [],
   "source": []
  },
  {
   "cell_type": "code",
   "execution_count": null,
   "metadata": {
    "collapsed": true
   },
   "outputs": [],
   "source": []
  },
  {
   "cell_type": "code",
   "execution_count": null,
   "metadata": {
    "collapsed": true
   },
   "outputs": [],
   "source": []
  }
 ],
 "metadata": {
  "kernelspec": {
   "display_name": "Python 3",
   "language": "python",
   "name": "python3"
  },
  "language_info": {
   "codemirror_mode": {
    "name": "ipython",
    "version": 3
   },
   "file_extension": ".py",
   "mimetype": "text/x-python",
   "name": "python",
   "nbconvert_exporter": "python",
   "pygments_lexer": "ipython3",
   "version": "3.6.2"
  }
 },
 "nbformat": 4,
 "nbformat_minor": 2
}
