{
 "cells": [
  {
   "cell_type": "code",
   "execution_count": null,
   "metadata": {
    "collapsed": true
   },
   "outputs": [],
   "source": [
    "## Third part"
   ]
  },
  {
   "cell_type": "code",
   "execution_count": 1,
   "metadata": {},
   "outputs": [
    {
     "name": "stdout",
     "output_type": "stream",
     "text": [
      "128037.0\n"
     ]
    }
   ],
   "source": [
    "## analytical answer\n",
    "import math\n",
    "\n",
    "g = 9.81\n",
    "G = 6.67e-11\n",
    "R = 6.37e6\n",
    "M = g*R**2/G\n",
    "\n",
    "y = 1e3\n",
    "dv_perc = 0\n",
    "\n",
    "while dv_perc<0.01:\n",
    "    y += 1\n",
    "    v1 = math.sqrt(G*M*(1/R-1/(R+y)))\n",
    "    v2 = math.sqrt(g*y)\n",
    "    dv_perc = v2/v1-1\n",
    "    \n",
    "print(y)"
   ]
  },
  {
   "cell_type": "code",
   "execution_count": 6,
   "metadata": {},
   "outputs": [],
   "source": [
    "class particle(object):\n",
    "    g = 9.8\n",
    "    dt = 0.01         # time step\n",
    "    \n",
    "    def __init__(self, mass=1., y=0., v=0.):\n",
    "        self.mass = mass\n",
    "        self.y = y\n",
    "        self.v = v\n",
    "        \n",
    "    def euler(self, f, dt):\n",
    "        self.y = self.y + self.v*dt\n",
    "        self.v = self.v + f/self.mass*dt\n",
    "        \n",
    "    def euler_cromer(self, f, dt):\n",
    "        self.v = self.v + f/self.mass*dt\n",
    "        self.y = self.y + self.v*dt\n",
    "        \n",
    "    def get_impact_v(self, g_variable):\n",
    "\n",
    "        y = [self.y] # since we do not know the size of the arrays, we define first a python list\n",
    "        v = [self.v] # the append method is more efficient for lists than arrays\n",
    "        t = [0.]\n",
    "\n",
    "        while self.y > 0.:\n",
    "            fy = -self.mass*g / (1+self.y/6.37e6)**2 if g_variable else -self.mass*g\n",
    "            self.euler(fy, self.dt)\n",
    "            y.append(self.y)\n",
    "            v.append(self.v)\n",
    "            t.append(t[-1]+self.dt)\n",
    "\n",
    "        t_data = np.array(t) # we convert the list into a numpy array for plotting\n",
    "        y_data = np.array(y)\n",
    "        v_data = np.array(v)\n",
    "\n",
    "        return t_data,y_data,v_data\n",
    "    \n",
    "    "
   ]
  },
  {
   "cell_type": "code",
   "execution_count": 7,
   "metadata": {},
   "outputs": [
    {
     "name": "stdout",
     "output_type": "stream",
     "text": [
      "impact velecity is -76.807473 m/s \n",
      "\n"
     ]
    },
    {
     "data": {
      "text/plain": [
       "Text(0,0.5,'velocity(m/s)')"
      ]
     },
     "execution_count": 7,
     "metadata": {},
     "output_type": "execute_result"
    },
    {
     "data": {
      "image/png": "[encoded data removed]",
      "text/plain": [
       "<Figure size 432x288 with 1 Axes>"
      ]
     },
     "metadata": {},
     "output_type": "display_data"
    }
   ],
   "source": [
    "%matplotlib inline\n",
    "import numpy as np\n",
    "from matplotlib import pyplot\n",
    "\n",
    "mass = 0.01        # mass of the particle\n",
    "y0 = 300.          # initial position\n",
    "v0 = 0.            # initial velocity\n",
    "vt = 30.           # terminal velocity\n",
    "\n",
    "p = particle(mass, y0, v0)\n",
    "\n",
    "#for i in range(0,t_data.size):\n",
    "#    print i,t_data[i], y_data[i], v_data[i]\n",
    "\n",
    "t_data,y_data,v_data = p.get_impact_v(g_variable=True)\n",
    "\n",
    "print('impact velecity is %f m/s \\n' % v_data[-1])\n",
    "pyplot.plot(t_data, v_data, color=\"#FF0000\", ls='-', lw=3)\n",
    "pyplot.xlabel('time(s)')\n",
    "pyplot.ylabel('velocity(m/s)')"
   ]
  },
  {
   "cell_type": "code",
   "execution_count": 11,
   "metadata": {},
   "outputs": [
    {
     "name": "stdout",
     "output_type": "stream",
     "text": [
      "required height to make a 0.01 difference is 127500.000000 m \n",
      "\n"
     ]
    }
   ],
   "source": [
    "## find out 1% difference y0\n",
    "y0 = 120000\n",
    "v0 = 0\n",
    "dv_perc = 0\n",
    "\n",
    "while dv_perc < 0.01:\n",
    "    y0 += 100\n",
    "    p = particle(mass, y0, v0)\n",
    "    _,_,v_data1 = p.get_impact_v(g_variable=True)\n",
    "    p = particle(mass, y0, v0)\n",
    "    _,_,v_data2 = p.get_impact_v(g_variable=False)\n",
    "    dv_perc = v_data2[-1]/v_data1[-1] - 1\n",
    "\n",
    "print('required height to make a 0.01 difference is %f m \\n' % y0)\n"
   ]
  },
  {
   "cell_type": "code",
   "execution_count": null,
   "metadata": {
    "collapsed": true
   },
   "outputs": [],
   "source": []
  },
  {
   "cell_type": "code",
   "execution_count": null,
   "metadata": {
    "collapsed": true
   },
   "outputs": [],
   "source": []
  },
  {
   "cell_type": "code",
   "execution_count": null,
   "metadata": {
    "collapsed": true
   },
   "outputs": [],
   "source": [
    "## Last part, coming soon..."
   ]
  },
  {
   "cell_type": "code",
   "execution_count": null,
   "metadata": {
    "collapsed": true
   },
   "outputs": [],
   "source": [
    "class particle2(object):\n",
    "    \n",
    "    def __init__(self, mass=1., x=0., y=0., vx=0., vy=0.):\n",
    "        self.mass = mass\n",
    "        self.x = x\n",
    "        self.y = y\n",
    "        self.vx = vx\n",
    "        self.vy = vy\n",
    "       \n",
    "    def euler(self, fx, fy, dt):\n",
    "        self.vx = self.vx + fx/self.mass*dt\n",
    "        self.vy = self.vy + fy/self.mass*dt\n",
    "        self.x = self.x + self.vx*dt\n",
    "        self.y = self.y + self.vy*dt\n",
    "        \n",
    "        "
   ]
  },
  {
   "cell_type": "code",
   "execution_count": null,
   "metadata": {},
   "outputs": [],
   "source": [
    "%matplotlib inline\n",
    "import numpy as np\n",
    "from matplotlib import pyplot\n",
    "from matplotlib.colors import ColorConverter as cc\n",
    "import math\n",
    "\n",
    "g = 9.8            # g acceleration\n",
    "v0 = 30.           # initial velocity\n",
    "\n",
    "dt = 0.1           # time step\n",
    "\n",
    "colors = ['red','orange','yellow','green','magenta','cyan','blue','purple','black']\n",
    "\n",
    "for angle in range(1,9):\n",
    "    x = [0]                                  # we need to initialize the arrays for each value of the angle\n",
    "    y = [0]\n",
    "    vx = [math.cos(angle*0.1*math.pi/2.)*v0] \n",
    "    vy = [math.sin(angle*0.1*math.pi/2.)*v0] \n",
    "    t = [0.]\n",
    "\n",
    "    p = particle2(1., 0., 0., vx[0], vy[0])\n",
    "    while p.y >= 0.:\n",
    "        fy = -g\n",
    "        p.euler(0., fy, dt)\n",
    "        x.append(p.x)\n",
    "        y.append(p.y)\n",
    "        vx.append(p.vx)\n",
    "        vy.append(p.vy)\n",
    "        t.append(t[-1]+dt)\n",
    "    \n",
    "    t_data = np.array(t) # we convert the list into a numpy array for plotting\n",
    "    x_data = np.array(x)\n",
    "    y_data = np.array(y)\n",
    "    vx_data = np.array(vx)\n",
    "    vy_data = np.array(vy)\n",
    "\n",
    "    my_plot = pyplot.plot(x_data, y_data, color=(colors[angle]), ls='-', lw=3, label = str(angle*0.1))\n",
    "    pyplot.legend()\n",
    "\n",
    "pyplot.xlabel('position x(m)')\n",
    "pyplot.ylabel('position y(m)')"
   ]
  },
  {
   "cell_type": "code",
   "execution_count": null,
   "metadata": {
    "collapsed": true
   },
   "outputs": [],
   "source": []
  },
  {
   "cell_type": "code",
   "execution_count": null,
   "metadata": {
    "collapsed": true
   },
   "outputs": [],
   "source": []
  },
  {
   "cell_type": "code",
   "execution_count": null,
   "metadata": {
    "collapsed": true
   },
   "outputs": [],
   "source": []
  },
  {
   "cell_type": "code",
   "execution_count": null,
   "metadata": {
    "collapsed": true
   },
   "outputs": [],
   "source": []
  }
 ],
 "metadata": {
  "kernelspec": {
   "display_name": "Python 3",
   "language": "python",
   "name": "python3"
  },
  "language_info": {
   "codemirror_mode": {
    "name": "ipython",
    "version": 3
   },
   "file_extension": ".py",
   "mimetype": "text/x-python",
   "name": "python",
   "nbconvert_exporter": "python",
   "pygments_lexer": "ipython3",
   "version": "3.6.2"
  }
 },
 "nbformat": 4,
 "nbformat_minor": 2
}
