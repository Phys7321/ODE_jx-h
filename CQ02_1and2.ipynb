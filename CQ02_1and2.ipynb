{
 "cells": [
  {
   "cell_type": "markdown",
   "metadata": {},
   "source": [
    "## Challenge Quesion 02 part 01"
   ]
  },
  {
   "cell_type": "code",
   "execution_count": 5,
   "metadata": {},
   "outputs": [
    {
     "data": {
      "text/plain": [
       "Text(0,0.5,'final T after 10.0 second')"
      ]
     },
     "execution_count": 5,
     "metadata": {},
     "output_type": "execute_result"
    },
    {
     "data": {
      "image/png": "[encoded data removed]",
      "text/plain": [
       "<Figure size 432x288 with 1 Axes>"
      ]
     },
     "metadata": {},
     "output_type": "display_data"
    }
   ],
   "source": [
    "%matplotlib inline\n",
    "import numpy as np\n",
    "import matplotlib.pyplot as plt\n",
    "\n",
    "T0 = 10.   # initial temperature\n",
    "Ts = 83.   # temp. of the environment\n",
    "r = 0.1    # cooling rate\n",
    "tmax = 10. # maximum time\n",
    "\n",
    "euler = lambda y, f, dx: y + f*dx\n",
    "\n",
    "dt_array = np.logspace(-4, 1, 100)\n",
    "# final_T_array = np.zeros(dt_array.shape)\n",
    "\n",
    "def final_T_of_dt(tmax, T0, Ts, r, dt):\n",
    "    nsteps = int(tmax//dt) +1  #the arrays will have different size for different time steps\n",
    "\n",
    "    T = T0\n",
    "    for i in range(nsteps):\n",
    "        T = euler(T, -r*(T-Ts), dt)\n",
    "    return T\n",
    "\n",
    "final_T_fun = np.vectorize(final_T_of_dt)\n",
    "\n",
    "final_T = final_T_fun(tmax, T0, Ts, r, dt_array)\n",
    "        \n",
    "plt.semilogx(dt_array, final_T, '.')\n",
    "plt.xlabel('d t')\n",
    "plt.ylabel('final T after ' + str(tmax) + ' second')\n",
    "\n"
   ]
  },
  {
   "cell_type": "markdown",
   "metadata": {},
   "source": [
    "## Challenge Quesion 02 part 02"
   ]
  },
  {
   "cell_type": "code",
   "execution_count": 2,
   "metadata": {
    "scrolled": true
   },
   "outputs": [
    {
     "data": {
      "text/plain": [
       "Text(0,0.5,'final T after 10.0 second')"
      ]
     },
     "execution_count": 2,
     "metadata": {},
     "output_type": "execute_result"
    },
    {
     "data": {
      "image/png": "[encoded data removed]",
      "text/plain": [
       "<Figure size 432x288 with 1 Axes>"
      ]
     },
     "metadata": {},
     "output_type": "display_data"
    }
   ],
   "source": [
    "%matplotlib inline\n",
    "import numpy as np\n",
    "import matplotlib.pyplot as plt\n",
    "\n",
    "T0 = 10.   # initial temperature\n",
    "Ts = 83.   # temp. of the environment\n",
    "r = 0.1    # cooling rate\n",
    "tmax = 10. # maximum time\n",
    "    \n",
    "def T_func(T, t):\n",
    "    return -r*(T-Ts)\n",
    "\n",
    "dt_array = np.logspace(-4, 1, 100)\n",
    "\n",
    "def final_T_of_dt_rk4(func, tmax, T0, Ts, r, dt):\n",
    "    T = T0\n",
    "    for t in range(int(tmax//dt)+1):\n",
    "        k1 = dt*func(T, t)\n",
    "        k2 = dt*func(T+0.5*k1, t+0.5*dt)\n",
    "        k3 = dt*func(T+0.5*k2, t+0.5*dt)\n",
    "        k4 = dt*func(T+k3, t+dt)\n",
    "        T += (k1+2*k2+2*k3+k4)/6\n",
    "    return T\n",
    "\n",
    "final_T_fun_rk4 = np.vectorize(final_T_of_dt_rk4)\n",
    "\n",
    "final_T = final_T_fun_rk4(T_func, tmax, T0, Ts, r, dt_array)\n",
    "        \n",
    "plt.semilogx(dt_array, final_T, '.')\n",
    "plt.xlabel('d t')\n",
    "plt.ylabel('final T after ' + str(tmax) + ' second')\n",
    "\n"
   ]
  },
  {
   "cell_type": "code",
   "execution_count": null,
   "metadata": {
    "collapsed": true
   },
   "outputs": [],
   "source": []
  },
  {
   "cell_type": "code",
   "execution_count": null,
   "metadata": {
    "collapsed": true
   },
   "outputs": [],
   "source": []
  }
 ],
 "metadata": {
  "kernelspec": {
   "display_name": "Python 3",
   "language": "python",
   "name": "python3"
  },
  "language_info": {
   "codemirror_mode": {
    "name": "ipython",
    "version": 3
   },
   "file_extension": ".py",
   "mimetype": "text/x-python",
   "name": "python",
   "nbconvert_exporter": "python",
   "pygments_lexer": "ipython3",
   "version": "3.6.2"
  }
 },
 "nbformat": 4,
 "nbformat_minor": 2
}
